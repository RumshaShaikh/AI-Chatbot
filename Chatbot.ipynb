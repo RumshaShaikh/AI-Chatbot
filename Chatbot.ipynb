{
  "nbformat": 4,
  "nbformat_minor": 0,
  "metadata": {
    "colab": {
      "provenance": [],
      "collapsed_sections": [],
      "authorship_tag": "ABX9TyPhg6jTZ+1P6FzqSQK6zuBR"
    },
    "kernelspec": {
      "name": "python3",
      "display_name": "Python 3"
    },
    "language_info": {
      "name": "python"
    }
  },
  "cells": [
    {
      "cell_type": "code",
      "execution_count": null,
      "metadata": {
        "id": "w0hPXfoCpkoO"
      },
      "outputs": [],
      "source": [
        "from google.colab import drive \n",
        "drive.mount('/content/drive')\n",
        "%cd /content/drive/MyDrive/ChatBot/rcoe22-sem5-group3\n"
      ]
    },
    {
      "cell_type": "code",
      "source": [
        "!pip install transformers;\n",
        "!pip install flask-ngrok;\n",
        "!pip install flask-bootstrap;\n",
        "!pip install pyngrok;\n",
        "# !ngrok authtoken pass"
      ],
      "metadata": {
        "id": "t2kp_gx0uA3D"
      },
      "execution_count": null,
      "outputs": []
    },
    {
      "cell_type": "code",
      "source": [
        "!ngrok authtoken <insert Your Token Here>"
      ],
      "metadata": {
        "id": "Bt0-UZRhzrBx"
      },
      "execution_count": null,
      "outputs": []
    },
    {
      "cell_type": "code",
      "source": [
        "from flask_ngrok import run_with_ngrok\n",
        "from flask import Flask, render_template, request\n",
        "from flask import session,redirect, flash \n",
        "import json\n",
        "import chatbot\n",
        "import chatbuddy\n",
        "with open(\"config.json\",\"r\") as c:\n",
        "    params=json.load(c)[\"params\"]\n",
        "\n",
        "#this is just an extention since we were getting 1 input from the form in the files\n",
        "def chatbot_response(usertext):\n",
        "    with open(\"text.txt\",\"r\") as f:\n",
        "        data=f.read()\n",
        "    s=chatbot.question_answer(usertext,data)\n",
        "    return s.capitalize()+\".\"\n",
        "\n",
        "#this is chatbuddy section\n",
        "def chatbuddy_response(usertext):\n",
        "    s=chatbuddy.predict(usertext)\n",
        "    return s\n",
        "\n",
        "app = Flask(__name__)\n",
        "run_with_ngrok(app)\n",
        "app.secret_key=\"super-secret-key\"\n",
        "\n",
        "#this is for index page\n",
        "@app.route(\"/\")\n",
        "def home():\n",
        "    return render_template('index.html',params=params)\n",
        "\n",
        "#this is the flask for textchat aka chatbot \n",
        "@app.route(\"/textchat\")\n",
        "def textchat():\n",
        "    return render_template('textchat.html')\n",
        "#this is for getting the inputs from the chatbot and running the same through the model \n",
        "@app.route(\"/textchat/get\")\n",
        "def get_bot_response():\n",
        "    userText = request.args.get('msg')\n",
        "    return chatbot_response(userText)\n",
        "\n",
        "\n",
        "\n",
        "#for signup page aka dashboard\n",
        "#this is the route for the dashboard page for editing and customizing the data\n",
        "@app.route(\"/dashboard\", methods=[\"GET\",\"POST\"])\n",
        "def dashboard():\n",
        "    if request.method==\"POST\":\n",
        "            if \"content\" in request.form:\n",
        "                with open(\"text.txt\",\"w\")as f:\n",
        "                    f.write(request.form[\"content\"])\n",
        "                flash(\"Data Update Successfully\",\"success\")\n",
        "            else:\n",
        "                username = request.form.get(\"uname\")\n",
        "                userpass = request.form.get(\"pass\")\n",
        "                if username==params['admin_user'] and userpass==params['admin_password']:\n",
        "                    # set the session variable\n",
        "                    session['user']=username\n",
        "                    with open(\"text.txt\",\"r\") as f:\n",
        "                        data=f.read()\n",
        "                        params[\"dataset\"]=data\n",
        "                    return render_template(\"dashboard.html\", params=params)\n",
        "                else:\n",
        "                    flash(\"Username or Password Incorrect\",\"danger\")\n",
        "                    return render_template(\"signin.html\", params=params)\n",
        "\n",
        "    if \"user\" in session and session['user']==params['admin_user']:\n",
        "        with open(\"text.txt\",\"r\") as f:\n",
        "            data=f.read()\n",
        "            params[\"dataset\"]=data\n",
        "        return render_template(\"dashboard.html\", params=params)\n",
        "    else:\n",
        "        return render_template(\"signin.html\", params=params)\n",
        "\n",
        "\n",
        "#this is for voicechat similarly functioning as that of textchat\n",
        "@app.route(\"/voicechat\")\n",
        "def voice():\n",
        "    return render_template(\"voicechat.html\")\n",
        "@app.route(\"/voicechat/get\")\n",
        "def get_bot_response2():\n",
        "    userText = request.args.get('msg')\n",
        "    return chatbot_response(userText)\n",
        "\n",
        "\n",
        "\n",
        "#this is for logging out of the signin page \n",
        "@app.route('/logout')\n",
        "def logout(): \n",
        "    if 'user' in session: \n",
        "        session.pop('user')\n",
        "        return redirect('/dashboard')\n",
        "    else:\n",
        "        return render_template('index.html',params=params)\n",
        "\n",
        "#chatbuddy section\n",
        "@app.route('/chatbot')\n",
        "def chatbot():\n",
        "    return render_template('chatbot.html',params=params)\n",
        "@app.route(\"/chatbot/get\")\n",
        "def get_bot_response3():\n",
        "    userText = request.args.get('msg')\n",
        "    return chatbuddy_response(userText)\n",
        "\n",
        "#this is for about button on navibar just for info purpose\n",
        "@app.route(\"/about\")\n",
        "def about():\n",
        "    return render_template('about.html',params=params)\n",
        "\n",
        "app.run();\n",
        "\n",
        "# if __name__ == '__main__':\n",
        "  #  app.run()\n",
        "\n"
      ],
      "metadata": {
        "id": "2jipgjXmuHtO"
      },
      "execution_count": null,
      "outputs": []
    },
    {
      "cell_type": "code",
      "source": [],
      "metadata": {
        "id": "vmxtXz_vz6Yl"
      },
      "execution_count": null,
      "outputs": []
    }
  ]
}
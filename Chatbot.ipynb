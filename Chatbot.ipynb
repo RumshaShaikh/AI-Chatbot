{
  "nbformat": 4,
  "nbformat_minor": 0,
  "metadata": {
    "colab": {
      "provenance": [],
      "collapsed_sections": [],
      "authorship_tag": "ABX9TyM3Lfrk/eO6XZdJh1ySfdEf"
    },
    "kernelspec": {
      "name": "python3",
      "display_name": "Python 3"
    },
    "language_info": {
      "name": "python"
    }
  },
  "cells": [
    {
      "cell_type": "code",
      "execution_count": 1,
      "metadata": {
        "colab": {
          "base_uri": "https://localhost:8080/"
        },
        "id": "w0hPXfoCpkoO",
        "outputId": "3f834f40-1399-4597-e023-7218c678c8f6"
      },
      "outputs": [
        {
          "output_type": "stream",
          "name": "stdout",
          "text": [
            "Drive already mounted at /content/drive; to attempt to forcibly remount, call drive.mount(\"/content/drive\", force_remount=True).\n",
            "/content/drive/MyDrive/ChatBot/rcoe22-sem5-group3\n"
          ]
        }
      ],
      "source": [
        "from google.colab import drive \n",
        "drive.mount('/content/drive')\n",
        "%cd /content/drive/MyDrive/ChatBot/rcoe22-sem5-group3\n"
      ]
    },
    {
      "cell_type": "code",
      "source": [
        "with open(\"Auth.txt\",\"r\") as f:\n",
        "  id=f.read()"
      ],
      "metadata": {
        "id": "l7D0IIAUzcOn"
      },
      "execution_count": 3,
      "outputs": []
    },
    {
      "cell_type": "code",
      "source": [
        "!sh file.sh"
      ],
      "metadata": {
        "id": "qznW-fVRz86k"
      },
      "execution_count": 10,
      "outputs": []
    },
    {
      "cell_type": "code",
      "source": [
        "!pip install transformers;\n",
        "!pip install flask-ngrok;\n",
        "!pip install flask-bootstrap;\n",
        "!pip install pyngrok;\n",
        "# !ngrok authtoken pass"
      ],
      "metadata": {
        "colab": {
          "base_uri": "https://localhost:8080/"
        },
        "id": "t2kp_gx0uA3D",
        "outputId": "c5f1811c-e848-4e43-f253-36c48d292c15"
      },
      "execution_count": 4,
      "outputs": [
        {
          "output_type": "stream",
          "name": "stdout",
          "text": [
            "Looking in indexes: https://pypi.org/simple, https://us-python.pkg.dev/colab-wheels/public/simple/\n",
            "Requirement already satisfied: transformers in /usr/local/lib/python3.7/dist-packages (4.22.2)\n",
            "Requirement already satisfied: requests in /usr/local/lib/python3.7/dist-packages (from transformers) (2.23.0)\n",
            "Requirement already satisfied: filelock in /usr/local/lib/python3.7/dist-packages (from transformers) (3.8.0)\n",
            "Requirement already satisfied: numpy>=1.17 in /usr/local/lib/python3.7/dist-packages (from transformers) (1.21.6)\n",
            "Requirement already satisfied: packaging>=20.0 in /usr/local/lib/python3.7/dist-packages (from transformers) (21.3)\n",
            "Requirement already satisfied: importlib-metadata in /usr/local/lib/python3.7/dist-packages (from transformers) (4.12.0)\n",
            "Requirement already satisfied: huggingface-hub<1.0,>=0.9.0 in /usr/local/lib/python3.7/dist-packages (from transformers) (0.10.0)\n",
            "Requirement already satisfied: regex!=2019.12.17 in /usr/local/lib/python3.7/dist-packages (from transformers) (2022.6.2)\n",
            "Requirement already satisfied: pyyaml>=5.1 in /usr/local/lib/python3.7/dist-packages (from transformers) (6.0)\n",
            "Requirement already satisfied: tqdm>=4.27 in /usr/local/lib/python3.7/dist-packages (from transformers) (4.64.1)\n",
            "Requirement already satisfied: tokenizers!=0.11.3,<0.13,>=0.11.1 in /usr/local/lib/python3.7/dist-packages (from transformers) (0.12.1)\n",
            "Requirement already satisfied: typing-extensions>=3.7.4.3 in /usr/local/lib/python3.7/dist-packages (from huggingface-hub<1.0,>=0.9.0->transformers) (4.1.1)\n",
            "Requirement already satisfied: pyparsing!=3.0.5,>=2.0.2 in /usr/local/lib/python3.7/dist-packages (from packaging>=20.0->transformers) (3.0.9)\n",
            "Requirement already satisfied: zipp>=0.5 in /usr/local/lib/python3.7/dist-packages (from importlib-metadata->transformers) (3.8.1)\n",
            "Requirement already satisfied: certifi>=2017.4.17 in /usr/local/lib/python3.7/dist-packages (from requests->transformers) (2022.6.15)\n",
            "Requirement already satisfied: urllib3!=1.25.0,!=1.25.1,<1.26,>=1.21.1 in /usr/local/lib/python3.7/dist-packages (from requests->transformers) (1.24.3)\n",
            "Requirement already satisfied: idna<3,>=2.5 in /usr/local/lib/python3.7/dist-packages (from requests->transformers) (2.10)\n",
            "Requirement already satisfied: chardet<4,>=3.0.2 in /usr/local/lib/python3.7/dist-packages (from requests->transformers) (3.0.4)\n",
            "Looking in indexes: https://pypi.org/simple, https://us-python.pkg.dev/colab-wheels/public/simple/\n",
            "Requirement already satisfied: flask-ngrok in /usr/local/lib/python3.7/dist-packages (0.0.25)\n",
            "Requirement already satisfied: Flask>=0.8 in /usr/local/lib/python3.7/dist-packages (from flask-ngrok) (1.1.4)\n",
            "Requirement already satisfied: requests in /usr/local/lib/python3.7/dist-packages (from flask-ngrok) (2.23.0)\n",
            "Requirement already satisfied: Werkzeug<2.0,>=0.15 in /usr/local/lib/python3.7/dist-packages (from Flask>=0.8->flask-ngrok) (1.0.1)\n",
            "Requirement already satisfied: Jinja2<3.0,>=2.10.1 in /usr/local/lib/python3.7/dist-packages (from Flask>=0.8->flask-ngrok) (2.11.3)\n",
            "Requirement already satisfied: click<8.0,>=5.1 in /usr/local/lib/python3.7/dist-packages (from Flask>=0.8->flask-ngrok) (7.1.2)\n",
            "Requirement already satisfied: itsdangerous<2.0,>=0.24 in /usr/local/lib/python3.7/dist-packages (from Flask>=0.8->flask-ngrok) (1.1.0)\n",
            "Requirement already satisfied: MarkupSafe>=0.23 in /usr/local/lib/python3.7/dist-packages (from Jinja2<3.0,>=2.10.1->Flask>=0.8->flask-ngrok) (2.0.1)\n",
            "Requirement already satisfied: chardet<4,>=3.0.2 in /usr/local/lib/python3.7/dist-packages (from requests->flask-ngrok) (3.0.4)\n",
            "Requirement already satisfied: idna<3,>=2.5 in /usr/local/lib/python3.7/dist-packages (from requests->flask-ngrok) (2.10)\n",
            "Requirement already satisfied: urllib3!=1.25.0,!=1.25.1,<1.26,>=1.21.1 in /usr/local/lib/python3.7/dist-packages (from requests->flask-ngrok) (1.24.3)\n",
            "Requirement already satisfied: certifi>=2017.4.17 in /usr/local/lib/python3.7/dist-packages (from requests->flask-ngrok) (2022.6.15)\n",
            "Looking in indexes: https://pypi.org/simple, https://us-python.pkg.dev/colab-wheels/public/simple/\n",
            "Requirement already satisfied: flask-bootstrap in /usr/local/lib/python3.7/dist-packages (3.3.7.1)\n",
            "Requirement already satisfied: visitor in /usr/local/lib/python3.7/dist-packages (from flask-bootstrap) (0.1.3)\n",
            "Requirement already satisfied: Flask>=0.8 in /usr/local/lib/python3.7/dist-packages (from flask-bootstrap) (1.1.4)\n",
            "Requirement already satisfied: dominate in /usr/local/lib/python3.7/dist-packages (from flask-bootstrap) (2.7.0)\n",
            "Requirement already satisfied: Werkzeug<2.0,>=0.15 in /usr/local/lib/python3.7/dist-packages (from Flask>=0.8->flask-bootstrap) (1.0.1)\n",
            "Requirement already satisfied: Jinja2<3.0,>=2.10.1 in /usr/local/lib/python3.7/dist-packages (from Flask>=0.8->flask-bootstrap) (2.11.3)\n",
            "Requirement already satisfied: itsdangerous<2.0,>=0.24 in /usr/local/lib/python3.7/dist-packages (from Flask>=0.8->flask-bootstrap) (1.1.0)\n",
            "Requirement already satisfied: click<8.0,>=5.1 in /usr/local/lib/python3.7/dist-packages (from Flask>=0.8->flask-bootstrap) (7.1.2)\n",
            "Requirement already satisfied: MarkupSafe>=0.23 in /usr/local/lib/python3.7/dist-packages (from Jinja2<3.0,>=2.10.1->Flask>=0.8->flask-bootstrap) (2.0.1)\n",
            "Looking in indexes: https://pypi.org/simple, https://us-python.pkg.dev/colab-wheels/public/simple/\n",
            "Requirement already satisfied: pyngrok in /usr/local/lib/python3.7/dist-packages (5.1.0)\n",
            "Requirement already satisfied: PyYAML in /usr/local/lib/python3.7/dist-packages (from pyngrok) (6.0)\n"
          ]
        }
      ]
    },
    {
      "cell_type": "code",
      "source": [
        "!ngrok authtoken 2EAsRPwNq1uK5I5nLdTKTUhmQEI_6DVvq5kbs3gM8YLoqsjBo"
      ],
      "metadata": {
        "colab": {
          "base_uri": "https://localhost:8080/"
        },
        "id": "Bt0-UZRhzrBx",
        "outputId": "4e9206cf-415f-4c19-e6ad-4128cf607d08"
      },
      "execution_count": 21,
      "outputs": [
        {
          "output_type": "stream",
          "name": "stdout",
          "text": [
            "Authtoken saved to configuration file: /root/.ngrok2/ngrok.yml\n"
          ]
        }
      ]
    },
    {
      "cell_type": "code",
      "source": [
        "from flask_ngrok import run_with_ngrok\n",
        "from flask import Flask, render_template, request\n",
        "from flask import session,redirect, flash \n",
        "import json\n",
        "import chatbot\n",
        "with open(\"config.json\",\"r\") as c:\n",
        "    params=json.load(c)[\"params\"]\n",
        "\n",
        "#this is just an extention since we were getting 1 input from the form in the files\n",
        "def chatbot_response(usertext):\n",
        "    with open(\"text.txt\",\"r\") as f:\n",
        "        data=f.read()\n",
        "    s=chatbot.question_answer(usertext,data)\n",
        "    return s.capitalize()+\".\"\n",
        "\n",
        "app = Flask(__name__)\n",
        "run_with_ngrok(app)\n",
        "app.secret_key=\"super-secret-key\"\n",
        "\n",
        "#this is for index page\n",
        "@app.route(\"/\")\n",
        "def home():\n",
        "    return render_template('index.html',params=params)\n",
        "\n",
        "#this is the flask for textchat aka chatbot \n",
        "@app.route(\"/textchat\")\n",
        "def textchat():\n",
        "    return render_template('textchat.html')\n",
        "#this is for getting the inputs from the chatbot and running the same through the model \n",
        "@app.route(\"/textchat/get\")\n",
        "def get_bot_response():\n",
        "    userText = request.args.get('msg')\n",
        "    return chatbot_response(userText)\n",
        "\n",
        "\n",
        "\n",
        "#for signup page aka dashboard\n",
        "#this is the route for the dashboard page for editing and customizing the data\n",
        "@app.route(\"/dashboard\", methods=[\"GET\",\"POST\"])\n",
        "def dashboard():\n",
        "    if request.method==\"POST\":\n",
        "            if \"content\" in request.form:\n",
        "                with open(\"text.txt\",\"w\")as f:\n",
        "                    f.write(request.form[\"content\"])\n",
        "                flash(\"Data Update Successfully\",\"success\")\n",
        "            else:\n",
        "                username = request.form.get(\"uname\")\n",
        "                userpass = request.form.get(\"pass\")\n",
        "                if username==params['admin_user'] and userpass==params['admin_password']:\n",
        "                    # set the session variable\n",
        "                    session['user']=username\n",
        "                    with open(\"text.txt\",\"r\") as f:\n",
        "                        data=f.read()\n",
        "                        params[\"dataset\"]=data\n",
        "                    return render_template(\"dashboard.html\", params=params)\n",
        "                else:\n",
        "                    flash(\"Username or Password Incorrect\",\"danger\")\n",
        "                    return render_template(\"signin.html\", params=params)\n",
        "\n",
        "    if \"user\" in session and session['user']==params['admin_user']:\n",
        "        with open(\"text.txt\",\"r\") as f:\n",
        "            data=f.read()\n",
        "            params[\"dataset\"]=data\n",
        "        return render_template(\"dashboard.html\", params=params)\n",
        "    else:\n",
        "        return render_template(\"signin.html\", params=params)\n",
        "\n",
        "\n",
        "#this is for voicechat similarly functioning as that of textchat\n",
        "@app.route(\"/voicechat\")\n",
        "def voice():\n",
        "    return render_template(\"voicechat.html\")\n",
        "@app.route(\"/voicechat/get\")\n",
        "def get_bot_response2():\n",
        "    userText = request.args.get('msg')\n",
        "    return chatbot_response(userText)\n",
        "\n",
        "\n",
        "\n",
        "#this is for logging out of the signin page \n",
        "@app.route('/logout')\n",
        "def logout(): \n",
        "    if 'user' in session: \n",
        "        session.pop('user')\n",
        "        return redirect('/dashboard')\n",
        "    else:\n",
        "        return render_template('index.html',params=params)\n",
        "\n",
        "\n",
        "\n",
        "#this is for about button on navibar just for info purpose\n",
        "@app.route(\"/about\")\n",
        "def about():\n",
        "    return render_template('about.html',params=params)\n",
        "\n",
        "app.run()\n",
        "\n",
        "# if __name__ == '__main__':\n",
        "  #  app.run()\n",
        "\n"
      ],
      "metadata": {
        "colab": {
          "base_uri": "https://localhost:8080/"
        },
        "id": "2jipgjXmuHtO",
        "outputId": "11da8cea-9e57-4a63-8daf-6b887b7f3059"
      },
      "execution_count": 22,
      "outputs": [
        {
          "output_type": "stream",
          "name": "stdout",
          "text": [
            " * Serving Flask app \"__main__\" (lazy loading)\n",
            " * Environment: production\n",
            "\u001b[31m   WARNING: This is a development server. Do not use it in a production deployment.\u001b[0m\n",
            "\u001b[2m   Use a production WSGI server instead.\u001b[0m\n",
            " * Debug mode: off\n"
          ]
        },
        {
          "output_type": "stream",
          "name": "stderr",
          "text": [
            "INFO:werkzeug: * Running on http://127.0.0.1:5000/ (Press CTRL+C to quit)\n"
          ]
        },
        {
          "output_type": "stream",
          "name": "stdout",
          "text": [
            " * Running on http://271b-34-125-207-114.ngrok.io\n",
            " * Traffic stats available on http://127.0.0.1:4040\n"
          ]
        },
        {
          "output_type": "stream",
          "name": "stderr",
          "text": [
            "INFO:werkzeug:127.0.0.1 - - [29/Sep/2022 10:38:30] \"\u001b[37mGET / HTTP/1.1\u001b[0m\" 200 -\n",
            "INFO:werkzeug:127.0.0.1 - - [29/Sep/2022 10:38:31] \"\u001b[37mGET /static/css/styles.css HTTP/1.1\u001b[0m\" 200 -\n",
            "INFO:werkzeug:127.0.0.1 - - [29/Sep/2022 10:38:33] \"\u001b[37mGET /static/assets/img/bg-chatbot.jpg HTTP/1.1\u001b[0m\" 200 -\n",
            "INFO:werkzeug:127.0.0.1 - - [29/Sep/2022 10:38:34] \"\u001b[37mGET /static/assets/favicon.ico HTTP/1.1\u001b[0m\" 200 -\n",
            "INFO:werkzeug:127.0.0.1 - - [29/Sep/2022 10:38:39] \"\u001b[37mGET /textchat HTTP/1.1\u001b[0m\" 200 -\n",
            "INFO:werkzeug:127.0.0.1 - - [29/Sep/2022 10:38:40] \"\u001b[37mGET /static/css/style.css HTTP/1.1\u001b[0m\" 200 -\n",
            "INFO:werkzeug:127.0.0.1 - - [29/Sep/2022 10:38:40] \"\u001b[37mGET /static/assets/img/blackimg.jfif HTTP/1.1\u001b[0m\" 200 -\n",
            "INFO:werkzeug:127.0.0.1 - - [29/Sep/2022 10:38:46] \"\u001b[37mGET /static/assets/img/personprofile.png HTTP/1.1\u001b[0m\" 200 -\n",
            "INFO:werkzeug:127.0.0.1 - - [29/Sep/2022 10:38:49] \"\u001b[37mGET /textchat/get?msg=who%20is%20salman HTTP/1.1\u001b[0m\" 200 -\n",
            "INFO:werkzeug:127.0.0.1 - - [29/Sep/2022 10:39:05] \"\u001b[37mGET /textchat/get?msg=who%20is%20a%20swimming%20creature HTTP/1.1\u001b[0m\" 200 -\n",
            "INFO:werkzeug:127.0.0.1 - - [29/Sep/2022 10:39:07] \"\u001b[37mGET / HTTP/1.1\u001b[0m\" 200 -\n",
            "INFO:werkzeug:127.0.0.1 - - [29/Sep/2022 10:39:08] \"\u001b[37mGET /static/js/scripts.js HTTP/1.1\u001b[0m\" 200 -\n"
          ]
        }
      ]
    },
    {
      "cell_type": "code",
      "source": [],
      "metadata": {
        "id": "M1PxQSjDwviZ"
      },
      "execution_count": null,
      "outputs": []
    }
  ]
}
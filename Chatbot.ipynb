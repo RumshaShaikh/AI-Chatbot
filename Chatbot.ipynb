{
  "nbformat": 4,
  "nbformat_minor": 0,
  "metadata": {
    "colab": {
      "provenance": [],
      "collapsed_sections": [],
      "authorship_tag": "ABX9TyNwy76wdhTu50o+4o1+cv+J"
    },
    "kernelspec": {
      "name": "python3",
      "display_name": "Python 3"
    },
    "language_info": {
      "name": "python"
    }
  },
  "cells": [
    {
      "cell_type": "code",
      "execution_count": 1,
      "metadata": {
        "colab": {
          "base_uri": "https://localhost:8080/"
        },
        "id": "w0hPXfoCpkoO",
        "outputId": "8ea7a17f-abd4-43d7-dbda-98c68ff98a5d"
      },
      "outputs": [
        {
          "output_type": "stream",
          "name": "stdout",
          "text": [
            "Mounted at /content/drive\n",
            "/content/drive/MyDrive/ChatBot/rcoe22-sem5-group3\n"
          ]
        }
      ],
      "source": [
        "from google.colab import drive \n",
        "drive.mount('/content/drive')\n",
        "%cd /content/drive/MyDrive/ChatBot/rcoe22-sem5-group3\n"
      ]
    },
    {
      "cell_type": "code",
      "source": [
        "!pip install transformers;\n",
        "!pip install flask-ngrok;\n",
        "!pip install flask-bootstrap;\n",
        "!pip install pyngrok;\n",
        "# !ngrok authtoken pass"
      ],
      "metadata": {
        "colab": {
          "base_uri": "https://localhost:8080/"
        },
        "id": "t2kp_gx0uA3D",
        "outputId": "8bfc491d-df88-40e6-8dcc-5a953b99ad37"
      },
      "execution_count": 2,
      "outputs": [
        {
          "output_type": "stream",
          "name": "stdout",
          "text": [
            "Looking in indexes: https://pypi.org/simple, https://us-python.pkg.dev/colab-wheels/public/simple/\n",
            "Collecting transformers\n",
            "  Downloading transformers-4.22.2-py3-none-any.whl (4.9 MB)\n",
            "\u001b[K     |████████████████████████████████| 4.9 MB 14.9 MB/s \n",
            "\u001b[?25hRequirement already satisfied: requests in /usr/local/lib/python3.7/dist-packages (from transformers) (2.23.0)\n",
            "Requirement already satisfied: numpy>=1.17 in /usr/local/lib/python3.7/dist-packages (from transformers) (1.21.6)\n",
            "Requirement already satisfied: tqdm>=4.27 in /usr/local/lib/python3.7/dist-packages (from transformers) (4.64.1)\n",
            "Requirement already satisfied: importlib-metadata in /usr/local/lib/python3.7/dist-packages (from transformers) (4.12.0)\n",
            "Requirement already satisfied: packaging>=20.0 in /usr/local/lib/python3.7/dist-packages (from transformers) (21.3)\n",
            "Requirement already satisfied: filelock in /usr/local/lib/python3.7/dist-packages (from transformers) (3.8.0)\n",
            "Requirement already satisfied: regex!=2019.12.17 in /usr/local/lib/python3.7/dist-packages (from transformers) (2022.6.2)\n",
            "Collecting tokenizers!=0.11.3,<0.13,>=0.11.1\n",
            "  Downloading tokenizers-0.12.1-cp37-cp37m-manylinux_2_12_x86_64.manylinux2010_x86_64.whl (6.6 MB)\n",
            "\u001b[K     |████████████████████████████████| 6.6 MB 54.1 MB/s \n",
            "\u001b[?25hRequirement already satisfied: pyyaml>=5.1 in /usr/local/lib/python3.7/dist-packages (from transformers) (6.0)\n",
            "Collecting huggingface-hub<1.0,>=0.9.0\n",
            "  Downloading huggingface_hub-0.10.0-py3-none-any.whl (163 kB)\n",
            "\u001b[K     |████████████████████████████████| 163 kB 64.3 MB/s \n",
            "\u001b[?25hRequirement already satisfied: typing-extensions>=3.7.4.3 in /usr/local/lib/python3.7/dist-packages (from huggingface-hub<1.0,>=0.9.0->transformers) (4.1.1)\n",
            "Requirement already satisfied: pyparsing!=3.0.5,>=2.0.2 in /usr/local/lib/python3.7/dist-packages (from packaging>=20.0->transformers) (3.0.9)\n",
            "Requirement already satisfied: zipp>=0.5 in /usr/local/lib/python3.7/dist-packages (from importlib-metadata->transformers) (3.8.1)\n",
            "Requirement already satisfied: chardet<4,>=3.0.2 in /usr/local/lib/python3.7/dist-packages (from requests->transformers) (3.0.4)\n",
            "Requirement already satisfied: urllib3!=1.25.0,!=1.25.1,<1.26,>=1.21.1 in /usr/local/lib/python3.7/dist-packages (from requests->transformers) (1.24.3)\n",
            "Requirement already satisfied: certifi>=2017.4.17 in /usr/local/lib/python3.7/dist-packages (from requests->transformers) (2022.6.15)\n",
            "Requirement already satisfied: idna<3,>=2.5 in /usr/local/lib/python3.7/dist-packages (from requests->transformers) (2.10)\n",
            "Installing collected packages: tokenizers, huggingface-hub, transformers\n",
            "Successfully installed huggingface-hub-0.10.0 tokenizers-0.12.1 transformers-4.22.2\n",
            "Looking in indexes: https://pypi.org/simple, https://us-python.pkg.dev/colab-wheels/public/simple/\n",
            "Collecting flask-ngrok\n",
            "  Downloading flask_ngrok-0.0.25-py3-none-any.whl (3.1 kB)\n",
            "Requirement already satisfied: Flask>=0.8 in /usr/local/lib/python3.7/dist-packages (from flask-ngrok) (1.1.4)\n",
            "Requirement already satisfied: requests in /usr/local/lib/python3.7/dist-packages (from flask-ngrok) (2.23.0)\n",
            "Requirement already satisfied: Werkzeug<2.0,>=0.15 in /usr/local/lib/python3.7/dist-packages (from Flask>=0.8->flask-ngrok) (1.0.1)\n",
            "Requirement already satisfied: Jinja2<3.0,>=2.10.1 in /usr/local/lib/python3.7/dist-packages (from Flask>=0.8->flask-ngrok) (2.11.3)\n",
            "Requirement already satisfied: itsdangerous<2.0,>=0.24 in /usr/local/lib/python3.7/dist-packages (from Flask>=0.8->flask-ngrok) (1.1.0)\n",
            "Requirement already satisfied: click<8.0,>=5.1 in /usr/local/lib/python3.7/dist-packages (from Flask>=0.8->flask-ngrok) (7.1.2)\n",
            "Requirement already satisfied: MarkupSafe>=0.23 in /usr/local/lib/python3.7/dist-packages (from Jinja2<3.0,>=2.10.1->Flask>=0.8->flask-ngrok) (2.0.1)\n",
            "Requirement already satisfied: urllib3!=1.25.0,!=1.25.1,<1.26,>=1.21.1 in /usr/local/lib/python3.7/dist-packages (from requests->flask-ngrok) (1.24.3)\n",
            "Requirement already satisfied: idna<3,>=2.5 in /usr/local/lib/python3.7/dist-packages (from requests->flask-ngrok) (2.10)\n",
            "Requirement already satisfied: certifi>=2017.4.17 in /usr/local/lib/python3.7/dist-packages (from requests->flask-ngrok) (2022.6.15)\n",
            "Requirement already satisfied: chardet<4,>=3.0.2 in /usr/local/lib/python3.7/dist-packages (from requests->flask-ngrok) (3.0.4)\n",
            "Installing collected packages: flask-ngrok\n",
            "Successfully installed flask-ngrok-0.0.25\n",
            "Looking in indexes: https://pypi.org/simple, https://us-python.pkg.dev/colab-wheels/public/simple/\n",
            "Collecting flask-bootstrap\n",
            "  Downloading Flask-Bootstrap-3.3.7.1.tar.gz (456 kB)\n",
            "\u001b[K     |████████████████████████████████| 456 kB 14.3 MB/s \n",
            "\u001b[?25hRequirement already satisfied: Flask>=0.8 in /usr/local/lib/python3.7/dist-packages (from flask-bootstrap) (1.1.4)\n",
            "Collecting dominate\n",
            "  Downloading dominate-2.7.0-py2.py3-none-any.whl (29 kB)\n",
            "Collecting visitor\n",
            "  Downloading visitor-0.1.3.tar.gz (3.3 kB)\n",
            "Requirement already satisfied: itsdangerous<2.0,>=0.24 in /usr/local/lib/python3.7/dist-packages (from Flask>=0.8->flask-bootstrap) (1.1.0)\n",
            "Requirement already satisfied: click<8.0,>=5.1 in /usr/local/lib/python3.7/dist-packages (from Flask>=0.8->flask-bootstrap) (7.1.2)\n",
            "Requirement already satisfied: Werkzeug<2.0,>=0.15 in /usr/local/lib/python3.7/dist-packages (from Flask>=0.8->flask-bootstrap) (1.0.1)\n",
            "Requirement already satisfied: Jinja2<3.0,>=2.10.1 in /usr/local/lib/python3.7/dist-packages (from Flask>=0.8->flask-bootstrap) (2.11.3)\n",
            "Requirement already satisfied: MarkupSafe>=0.23 in /usr/local/lib/python3.7/dist-packages (from Jinja2<3.0,>=2.10.1->Flask>=0.8->flask-bootstrap) (2.0.1)\n",
            "Building wheels for collected packages: flask-bootstrap, visitor\n",
            "  Building wheel for flask-bootstrap (setup.py) ... \u001b[?25l\u001b[?25hdone\n",
            "  Created wheel for flask-bootstrap: filename=Flask_Bootstrap-3.3.7.1-py3-none-any.whl size=460123 sha256=083317ccb0483b7e1af4a1a40335af1e2ea79b5eec958aed44849e675b219913\n",
            "  Stored in directory: /root/.cache/pip/wheels/67/a2/d6/50d039c9b59b4caca6d7b53839c8100354a52ab7553d2456eb\n",
            "  Building wheel for visitor (setup.py) ... \u001b[?25l\u001b[?25hdone\n",
            "  Created wheel for visitor: filename=visitor-0.1.3-py3-none-any.whl size=3946 sha256=933a09fb488aa00f7e82e3c93cfa69d191f97d6025e897693f9f3c89fe60c68c\n",
            "  Stored in directory: /root/.cache/pip/wheels/64/34/11/053f47218984c9a31a00f911ed98dda036b867481dcc527a12\n",
            "Successfully built flask-bootstrap visitor\n",
            "Installing collected packages: visitor, dominate, flask-bootstrap\n",
            "Successfully installed dominate-2.7.0 flask-bootstrap-3.3.7.1 visitor-0.1.3\n",
            "Looking in indexes: https://pypi.org/simple, https://us-python.pkg.dev/colab-wheels/public/simple/\n",
            "Collecting pyngrok\n",
            "  Downloading pyngrok-5.1.0.tar.gz (745 kB)\n",
            "\u001b[K     |████████████████████████████████| 745 kB 15.3 MB/s \n",
            "\u001b[?25hRequirement already satisfied: PyYAML in /usr/local/lib/python3.7/dist-packages (from pyngrok) (6.0)\n",
            "Building wheels for collected packages: pyngrok\n",
            "  Building wheel for pyngrok (setup.py) ... \u001b[?25l\u001b[?25hdone\n",
            "  Created wheel for pyngrok: filename=pyngrok-5.1.0-py3-none-any.whl size=19007 sha256=f3b72bcabed1bccd80f97224bb85e4f01d4294381af85c817eddcf3f6af28f1b\n",
            "  Stored in directory: /root/.cache/pip/wheels/bf/e6/af/ccf6598ecefecd44104069371795cb9b3afbcd16987f6ccfb3\n",
            "Successfully built pyngrok\n",
            "Installing collected packages: pyngrok\n",
            "Successfully installed pyngrok-5.1.0\n"
          ]
        }
      ]
    },
    {
      "cell_type": "code",
      "source": [
        "!ngrok authtoken <insert Your Token Here>"
      ],
      "metadata": {
        "colab": {
          "base_uri": "https://localhost:8080/"
        },
        "id": "Bt0-UZRhzrBx",
        "outputId": "a8f355f6-48e3-431d-928a-2f27d1be2338"
      },
      "execution_count": 3,
      "outputs": [
        {
          "output_type": "stream",
          "name": "stdout",
          "text": [
            "Authtoken saved to configuration file: /root/.ngrok2/ngrok.yml\n"
          ]
        }
      ]
    },
    {
      "cell_type": "code",
      "source": [
        "from flask_ngrok import run_with_ngrok\n",
        "from flask import Flask, render_template, request\n",
        "from flask import session,redirect, flash \n",
        "import json\n",
        "import chatbot\n",
        "import chatbuddy\n",
        "with open(\"config.json\",\"r\") as c:\n",
        "    params=json.load(c)[\"params\"]\n",
        "\n",
        "#this is just an extention since we were getting 1 input from the form in the files\n",
        "def chatbot_response(usertext):\n",
        "    with open(\"text.txt\",\"r\") as f:\n",
        "        data=f.read()\n",
        "    s=chatbot.question_answer(usertext,data)\n",
        "    return s.capitalize()+\".\"\n",
        "\n",
        "#this is chatbuddy section\n",
        "def chatbuddy_response(usertext):\n",
        "    s=chatbuddy.predict(usertext)\n",
        "    return s\n",
        "\n",
        "app = Flask(__name__)\n",
        "run_with_ngrok(app)\n",
        "app.secret_key=\"super-secret-key\"\n",
        "\n",
        "#this is for index page\n",
        "@app.route(\"/\")\n",
        "def home():\n",
        "    return render_template('index.html',params=params)\n",
        "\n",
        "#this is the flask for textchat aka chatbot \n",
        "@app.route(\"/textchat\")\n",
        "def textchat():\n",
        "    return render_template('textchat.html')\n",
        "#this is for getting the inputs from the chatbot and running the same through the model \n",
        "@app.route(\"/textchat/get\")\n",
        "def get_bot_response():\n",
        "    userText = request.args.get('msg')\n",
        "    return chatbot_response(userText)\n",
        "\n",
        "\n",
        "\n",
        "#for signup page aka dashboard\n",
        "#this is the route for the dashboard page for editing and customizing the data\n",
        "@app.route(\"/dashboard\", methods=[\"GET\",\"POST\"])\n",
        "def dashboard():\n",
        "    if request.method==\"POST\":\n",
        "            if \"content\" in request.form:\n",
        "                with open(\"text.txt\",\"w\")as f:\n",
        "                    f.write(request.form[\"content\"])\n",
        "                flash(\"Data Update Successfully\",\"success\")\n",
        "            else:\n",
        "                username = request.form.get(\"uname\")\n",
        "                userpass = request.form.get(\"pass\")\n",
        "                if username==params['admin_user'] and userpass==params['admin_password']:\n",
        "                    # set the session variable\n",
        "                    session['user']=username\n",
        "                    with open(\"text.txt\",\"r\") as f:\n",
        "                        data=f.read()\n",
        "                        params[\"dataset\"]=data\n",
        "                    return render_template(\"dashboard.html\", params=params)\n",
        "                else:\n",
        "                    flash(\"Username or Password Incorrect\",\"danger\")\n",
        "                    return render_template(\"signin.html\", params=params)\n",
        "\n",
        "    if \"user\" in session and session['user']==params['admin_user']:\n",
        "        with open(\"text.txt\",\"r\") as f:\n",
        "            data=f.read()\n",
        "            params[\"dataset\"]=data\n",
        "        return render_template(\"dashboard.html\", params=params)\n",
        "    else:\n",
        "        return render_template(\"signin.html\", params=params)\n",
        "\n",
        "\n",
        "#this is for voicechat similarly functioning as that of textchat\n",
        "@app.route(\"/voicechat\")\n",
        "def voice():\n",
        "    return render_template(\"voicechat.html\")\n",
        "@app.route(\"/voicechat/get\")\n",
        "def get_bot_response2():\n",
        "    userText = request.args.get('msg')\n",
        "    return chatbot_response(userText)\n",
        "\n",
        "\n",
        "\n",
        "#this is for logging out of the signin page \n",
        "@app.route('/logout')\n",
        "def logout(): \n",
        "    if 'user' in session: \n",
        "        session.pop('user')\n",
        "        return redirect('/dashboard')\n",
        "    else:\n",
        "        return render_template('index.html',params=params)\n",
        "\n",
        "#chatbuddy section\n",
        "@app.route('/chatbot')\n",
        "def chatbot():\n",
        "    return render_template('chatbot.html',params=params)\n",
        "@app.route(\"/chatbot/get\")\n",
        "def get_bot_response3():\n",
        "    userText = request.args.get('msg')\n",
        "    return chatbuddy_response(userText)\n",
        "\n",
        "#this is for about button on navibar just for info purpose\n",
        "@app.route(\"/about\")\n",
        "def about():\n",
        "    return render_template('about.html',params=params)\n",
        "\n",
        "app.run();\n",
        "\n",
        "# if __name__ == '__main__':\n",
        "  #  app.run()\n",
        "\n"
      ],
      "metadata": {
        "id": "2jipgjXmuHtO"
      },
      "execution_count": null,
      "outputs": []
    },
    {
      "cell_type": "code",
      "source": [
        "!python3 chatbuddy.py\n"
      ],
      "metadata": {
        "id": "M1PxQSjDwviZ",
        "colab": {
          "base_uri": "https://localhost:8080/"
        },
        "outputId": "e417023a-0aeb-4075-b186-031599d46ce3"
      },
      "execution_count": 15,
      "outputs": [
        {
          "output_type": "stream",
          "name": "stdout",
          "text": [
            "User>> heyy\n",
            "Heyy! :D\n",
            "User>> are u online\n",
            "I am now\n",
            "User>> nice to meet u\n",
            "You too\n",
            "User>> bye\n",
            "I'm sorry, I didn't mean to hurt you.\n",
            "User>> Traceback (most recent call last):\n",
            "  File \"chatbuddy.py\", line 41, in <module>\n",
            "KeyboardInterrupt\n"
          ]
        }
      ]
    },
    {
      "cell_type": "code",
      "source": [
        "h!ls"
      ],
      "metadata": {
        "colab": {
          "base_uri": "https://localhost:8080/"
        },
        "id": "i5YrSU41zSsz",
        "outputId": "eb9bd76c-cf07-4fb7-b909-fd7197551843"
      },
      "execution_count": 11,
      "outputs": [
        {
          "output_type": "stream",
          "name": "stdout",
          "text": [
            "backend.py    chatmodel.pickle\t    model.pickle  static     tokenizer.pickle\n",
            "chatbot.py    chattokenizer.pickle  __pycache__   templates\n",
            "chatbuddy.py  config.json\t    README.md\t  text.txt\n"
          ]
        }
      ]
    },
    {
      "cell_type": "code",
      "source": [],
      "metadata": {
        "id": "vmxtXz_vz6Yl"
      },
      "execution_count": null,
      "outputs": []
    }
  ]
}